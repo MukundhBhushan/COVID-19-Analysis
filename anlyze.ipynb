{
 "metadata": {
  "language_info": {
   "codemirror_mode": {
    "name": "ipython",
    "version": 3
   },
   "file_extension": ".py",
   "mimetype": "text/x-python",
   "name": "python",
   "nbconvert_exporter": "python",
   "pygments_lexer": "ipython3",
   "version": "3.8.5-final"
  },
  "orig_nbformat": 2,
  "kernelspec": {
   "name": "python_defaultSpec_1598793510422",
   "display_name": "Python 3.8.5 64-bit"
  }
 },
 "nbformat": 4,
 "nbformat_minor": 2,
 "cells": [
  {
   "cell_type": "markdown",
   "metadata": {},
   "source": [
    "# Covid analysis\n",
    "Covid fasta file: https://www.ncbi.nlm.nih.gov/nuccore/MN908947.3?report=fasta"
   ]
  },
  {
   "cell_type": "code",
   "execution_count": 7,
   "metadata": {
    "tags": []
   },
   "outputs": [],
   "source": [
    "#reading fasta file\n",
    "from Bio import SeqIO"
   ]
  },
  {
   "cell_type": "code",
   "execution_count": 8,
   "metadata": {
    "tags": []
   },
   "outputs": [
    {
     "output_type": "stream",
     "name": "stdout",
     "text": "MN908947.3\n"
    }
   ],
   "source": [
    "#parsing fasta\n",
    "for record in SeqIO.parse('covid.fasta','fasta'):\n",
    "    print(record.id)"
   ]
  },
  {
   "cell_type": "code",
   "execution_count": 9,
   "metadata": {},
   "outputs": [],
   "source": [
    "#reading\n",
    "covid_rec = SeqIO.read(\"covid.fasta\",\"fasta\")"
   ]
  },
  {
   "cell_type": "code",
   "execution_count": 15,
   "metadata": {
    "tags": []
   },
   "outputs": [
    {
     "output_type": "stream",
     "name": "stdout",
     "text": "ID: MN908947.3\nName: MN908947.3\nDescription: MN908947.3 Severe acute respiratory syndrome coronavirus 2 isolate Wuhan-Hu-1, complete genome\nNumber of features: 0\nSeq('ATTAAAGGTTTATACCTTCCCAGGTAACAAACCAACCAACTTTCGATCTCTTGT...AAA', SingleLetterAlphabet()) MN908947.3\n"
    }
   ],
   "source": [
    "print(covid_rec,covid_rec.id)"
   ]
  },
  {
   "cell_type": "code",
   "execution_count": 16,
   "metadata": {},
   "outputs": [
    {
     "output_type": "execute_result",
     "data": {
      "text/plain": "29903"
     },
     "metadata": {},
     "execution_count": 16
    }
   ],
   "source": [
    "#len of sequence\n",
    "len(covid_rec)"
   ]
  },
  {
   "cell_type": "markdown",
   "metadata": {},
   "source": [
    "# Protein synthesis\n",
    "DNA => mRNA => protein"
   ]
  },
  {
   "cell_type": "code",
   "execution_count": 32,
   "metadata": {},
   "outputs": [
    {
     "output_type": "execute_result",
     "data": {
      "text/plain": "Seq('ATTAAAGGTTTATACCTTCCCAGGTAACAAACCAACCAACTTTCGATCTCTTGT...AAA', SingleLetterAlphabet())"
     },
     "metadata": {},
     "execution_count": 32
    }
   ],
   "source": [
    "#getting DNA seq\n",
    "dna = covid_rec.seq\n",
    "dna"
   ]
  },
  {
   "cell_type": "code",
   "execution_count": 33,
   "metadata": {},
   "outputs": [
    {
     "output_type": "execute_result",
     "data": {
      "text/plain": "Seq('AUUAAAGGUUUAUACCUUCCCAGGUAACAAACCAACCAACUUUCGAUCUCUUGU...AAA', RNAAlphabet())"
     },
     "metadata": {},
     "execution_count": 33
    }
   ],
   "source": [
    "#transcribe dna => rna\n",
    "mrna = dna.transcribe()\n",
    "mrna"
   ]
  },
  {
   "cell_type": "code",
   "execution_count": 34,
   "metadata": {},
   "outputs": [
    {
     "output_type": "execute_result",
     "data": {
      "text/plain": "Seq('IKGLYLPR*QTNQLSISCRSVL*TNFKICVAVTRLHA*CTHAV*LITNYCR*QD...KKK', HasStopCodon(ExtendedIUPACProtein(), '*'))"
     },
     "metadata": {},
     "execution_count": 34
    }
   ],
   "source": [
    "#translate mrna => protein\n",
    "protein = mrna.translate()\n",
    "protein"
   ]
  },
  {
   "cell_type": "code",
   "execution_count": 37,
   "metadata": {},
   "outputs": [],
   "source": [
    "# Find all the amino acids\n",
    "amino_acids = protein.split('*')\n"
   ]
  },
  {
   "cell_type": "code",
   "execution_count": 39,
   "metadata": {},
   "outputs": [],
   "source": [
    "import pandas as pd"
   ]
  },
  {
   "cell_type": "code",
   "execution_count": 43,
   "metadata": {},
   "outputs": [],
   "source": [
    "#converting set to str\n",
    "aa = [str(i) for i in amino_acids]"
   ]
  },
  {
   "cell_type": "code",
   "execution_count": 44,
   "metadata": {},
   "outputs": [],
   "source": [
    "df = pd.DataFrame({'amino_acids':aa})"
   ]
  },
  {
   "cell_type": "code",
   "execution_count": 47,
   "metadata": {},
   "outputs": [],
   "source": [
    "df['count'] = df['amino_acids'].apply(len)"
   ]
  },
  {
   "cell_type": "code",
   "execution_count": 49,
   "metadata": {},
   "outputs": [
    {
     "output_type": "execute_result",
     "data": {
      "text/plain": "      amino_acids  count\n0        IKGLYLPR      8\n1   QTNQLSISCRSVL     13\n2  TNFKICVAVTRLHA     14\n3           CTHAV      5\n4         LITNYCR      7",
      "text/html": "<div>\n<style scoped>\n    .dataframe tbody tr th:only-of-type {\n        vertical-align: middle;\n    }\n\n    .dataframe tbody tr th {\n        vertical-align: top;\n    }\n\n    .dataframe thead th {\n        text-align: right;\n    }\n</style>\n<table border=\"1\" class=\"dataframe\">\n  <thead>\n    <tr style=\"text-align: right;\">\n      <th></th>\n      <th>amino_acids</th>\n      <th>count</th>\n    </tr>\n  </thead>\n  <tbody>\n    <tr>\n      <th>0</th>\n      <td>IKGLYLPR</td>\n      <td>8</td>\n    </tr>\n    <tr>\n      <th>1</th>\n      <td>QTNQLSISCRSVL</td>\n      <td>13</td>\n    </tr>\n    <tr>\n      <th>2</th>\n      <td>TNFKICVAVTRLHA</td>\n      <td>14</td>\n    </tr>\n    <tr>\n      <th>3</th>\n      <td>CTHAV</td>\n      <td>5</td>\n    </tr>\n    <tr>\n      <th>4</th>\n      <td>LITNYCR</td>\n      <td>7</td>\n    </tr>\n  </tbody>\n</table>\n</div>"
     },
     "metadata": {},
     "execution_count": 49
    }
   ],
   "source": [
    "df.head()"
   ]
  },
  {
   "cell_type": "code",
   "execution_count": 51,
   "metadata": {},
   "outputs": [
    {
     "output_type": "execute_result",
     "data": {
      "text/plain": "                                           amino_acids  count\n548  CTIVFKRVCGVSAARLTPCGTGTSTDVVYRAFDIYNDKVAGFAKFL...   2701\n694  ASAQRSQITLHINELMDLFMRIFTIGTVTLKQGEIKDATPSDFVRA...    290\n719  TNMKIILFLALITLATCELYHYQECVRGTTVLLKEPCSSGTYEGNS...    123\n695  AQADEYELMYSFVSEETGTLIVNSVLLFLAFVVFLLVTLAILTALR...     83\n718  QQMFHLVDFQVTIAEILLIIMRTFKVSIWNLDYIINLIIKNLSKSL...     63\n6       DGEPCPWFQRENTRPTQFACFTGSRRARTWLWRLRGGGLIRGTSTS     46\n464     TMLRCYFPKCSEKNNQGYTPLVVTHNFDFTFSFSPEYSMVFVLFFV     46\n539        DVVYTHWYWSGNNSYTGSQYGSRILWWCIVLSVLPLPHRSSKS     43\n758        LQTLAANCTICPQRFSVLRNVAHWHGSHTFGNVVDLHRCHQIG     43\n771        KSHHIFTEATRSTIECTVNNARESCLYGRALMCKINFSSAIPM     43\n674         FLWKGLSSYVLPSVSTSWCSLLACDLCPCTRKELHNCSCHLS     42\n729          LNCAWMRLVLNHPFSTSISVIIQFPVYLLQLIARNLNWVVL     41\n242           RNFVLHRRCFTYKVLRIQRSYYGCFLQRKQLHNNHKTSYL     40\n91             IQRRNWPTHASKSPKRNYLLRGRNTSHRSVNRGSCLENW     39\n405             YVYTTNSTYWCFGHISIYSSWWYCSYRSNMPCLLFYEV     38\n410             CFFFSTYSVDGYVHTFSTFLDNNCLYHLYFHKAFLLVL     38\n710             CGSATSLLLSDCLRVRVPCGHSIQKLTFFSTCHSMALF     38\n189              NSCYNATWLCNTWLKFGRSCSVYEISQSASYSFCFFT     37\n408               YFTIPYVIHCTLFNTSLLILTWCLFCYLLVLDILSY     36\n553               QSFQILSFTFNSGLVLTFLFQCYLVPCYTCLWDQWY     36",
      "text/html": "<div>\n<style scoped>\n    .dataframe tbody tr th:only-of-type {\n        vertical-align: middle;\n    }\n\n    .dataframe tbody tr th {\n        vertical-align: top;\n    }\n\n    .dataframe thead th {\n        text-align: right;\n    }\n</style>\n<table border=\"1\" class=\"dataframe\">\n  <thead>\n    <tr style=\"text-align: right;\">\n      <th></th>\n      <th>amino_acids</th>\n      <th>count</th>\n    </tr>\n  </thead>\n  <tbody>\n    <tr>\n      <th>548</th>\n      <td>CTIVFKRVCGVSAARLTPCGTGTSTDVVYRAFDIYNDKVAGFAKFL...</td>\n      <td>2701</td>\n    </tr>\n    <tr>\n      <th>694</th>\n      <td>ASAQRSQITLHINELMDLFMRIFTIGTVTLKQGEIKDATPSDFVRA...</td>\n      <td>290</td>\n    </tr>\n    <tr>\n      <th>719</th>\n      <td>TNMKIILFLALITLATCELYHYQECVRGTTVLLKEPCSSGTYEGNS...</td>\n      <td>123</td>\n    </tr>\n    <tr>\n      <th>695</th>\n      <td>AQADEYELMYSFVSEETGTLIVNSVLLFLAFVVFLLVTLAILTALR...</td>\n      <td>83</td>\n    </tr>\n    <tr>\n      <th>718</th>\n      <td>QQMFHLVDFQVTIAEILLIIMRTFKVSIWNLDYIINLIIKNLSKSL...</td>\n      <td>63</td>\n    </tr>\n    <tr>\n      <th>6</th>\n      <td>DGEPCPWFQRENTRPTQFACFTGSRRARTWLWRLRGGGLIRGTSTS</td>\n      <td>46</td>\n    </tr>\n    <tr>\n      <th>464</th>\n      <td>TMLRCYFPKCSEKNNQGYTPLVVTHNFDFTFSFSPEYSMVFVLFFV</td>\n      <td>46</td>\n    </tr>\n    <tr>\n      <th>539</th>\n      <td>DVVYTHWYWSGNNSYTGSQYGSRILWWCIVLSVLPLPHRSSKS</td>\n      <td>43</td>\n    </tr>\n    <tr>\n      <th>758</th>\n      <td>LQTLAANCTICPQRFSVLRNVAHWHGSHTFGNVVDLHRCHQIG</td>\n      <td>43</td>\n    </tr>\n    <tr>\n      <th>771</th>\n      <td>KSHHIFTEATRSTIECTVNNARESCLYGRALMCKINFSSAIPM</td>\n      <td>43</td>\n    </tr>\n    <tr>\n      <th>674</th>\n      <td>FLWKGLSSYVLPSVSTSWCSLLACDLCPCTRKELHNCSCHLS</td>\n      <td>42</td>\n    </tr>\n    <tr>\n      <th>729</th>\n      <td>LNCAWMRLVLNHPFSTSISVIIQFPVYLLQLIARNLNWVVL</td>\n      <td>41</td>\n    </tr>\n    <tr>\n      <th>242</th>\n      <td>RNFVLHRRCFTYKVLRIQRSYYGCFLQRKQLHNNHKTSYL</td>\n      <td>40</td>\n    </tr>\n    <tr>\n      <th>91</th>\n      <td>IQRRNWPTHASKSPKRNYLLRGRNTSHRSVNRGSCLENW</td>\n      <td>39</td>\n    </tr>\n    <tr>\n      <th>405</th>\n      <td>YVYTTNSTYWCFGHISIYSSWWYCSYRSNMPCLLFYEV</td>\n      <td>38</td>\n    </tr>\n    <tr>\n      <th>410</th>\n      <td>CFFFSTYSVDGYVHTFSTFLDNNCLYHLYFHKAFLLVL</td>\n      <td>38</td>\n    </tr>\n    <tr>\n      <th>710</th>\n      <td>CGSATSLLLSDCLRVRVPCGHSIQKLTFFSTCHSMALF</td>\n      <td>38</td>\n    </tr>\n    <tr>\n      <th>189</th>\n      <td>NSCYNATWLCNTWLKFGRSCSVYEISQSASYSFCFFT</td>\n      <td>37</td>\n    </tr>\n    <tr>\n      <th>408</th>\n      <td>YFTIPYVIHCTLFNTSLLILTWCLFCYLLVLDILSY</td>\n      <td>36</td>\n    </tr>\n    <tr>\n      <th>553</th>\n      <td>QSFQILSFTFNSGLVLTFLFQCYLVPCYTCLWDQWY</td>\n      <td>36</td>\n    </tr>\n  </tbody>\n</table>\n</div>"
     },
     "metadata": {},
     "execution_count": 51
    }
   ],
   "source": [
    "df.nlargest(20,'count')"
   ]
  },
  {
   "cell_type": "markdown",
   "metadata": {},
   "source": [
    "# Covid 3D visualization"
   ]
  },
  {
   "cell_type": "markdown",
   "metadata": {},
   "source": [
    "## PDB file link: https://www.ncbi.nlm.nih.gov/Structure/pdb/6LU7\n",
    "PDB => Protein Data Bank"
   ]
  },
  {
   "cell_type": "code",
   "execution_count": 52,
   "metadata": {},
   "outputs": [],
   "source": [
    "#parsing pdb\n",
    "from Bio.PDB import PDBParser"
   ]
  },
  {
   "cell_type": "code",
   "execution_count": 65,
   "metadata": {},
   "outputs": [
    {
     "output_type": "execute_result",
     "data": {
      "text/plain": "<Structure id=6LU7>"
     },
     "metadata": {},
     "execution_count": 65
    }
   ],
   "source": [
    "#reading PDB file\n",
    "parser = PDBParser()\n",
    "structure = parser.get_structure(\"6LU7\",\"6lu7.pdb\") #id,file path\n",
    "structure"
   ]
  },
  {
   "cell_type": "code",
   "execution_count": 66,
   "metadata": {
    "tags": []
   },
   "outputs": [
    {
     "output_type": "stream",
     "name": "stdout",
     "text": "<Chain id=A>\n<Chain id=C>\n"
    }
   ],
   "source": [
    "model = structure[0]\n",
    "for i in model:\n",
    "    print(i)\n",
    "    "
   ]
  },
  {
   "cell_type": "code",
   "execution_count": 67,
   "metadata": {
    "tags": [
     "outputPrepend"
    ]
   },
   "outputs": [
    {
     "output_type": "stream",
     "name": "stdout",
     "text": "tom CG>\n<Atom CD>\n<Atom NE>\n<Atom CZ>\n<Atom NH1>\n<Atom NH2>\n<Atom N>\n<Atom CA>\n<Atom C>\n<Atom O>\n<Atom CB>\n<Atom CG>\n<Atom CD>\n<Atom CE>\n<Atom NZ>\n<Atom N>\n<Atom CA>\n<Atom C>\n<Atom O>\n<Atom CB>\n<Atom OG>\n<Atom N>\n<Atom CA>\n<Atom C>\n<Atom O>\n<Atom CB>\n<Atom CG>\n<Atom OD1>\n<Atom ND2>\n<Atom N>\n<Atom CA>\n<Atom C>\n<Atom O>\n<Atom CB>\n<Atom CG>\n<Atom ND1>\n<Atom CD2>\n<Atom CE1>\n<Atom NE2>\n<Atom N>\n<Atom CA>\n<Atom C>\n<Atom O>\n<Atom CB>\n<Atom CG>\n<Atom OD1>\n<Atom ND2>\n<Atom N>\n<Atom CA>\n<Atom C>\n<Atom O>\n<Atom CB>\n<Atom CG>\n<Atom CD1>\n<Atom CD2>\n<Atom CE1>\n<Atom CE2>\n<Atom CZ>\n<Atom N>\n<Atom CA>\n<Atom C>\n<Atom O>\n<Atom CB>\n<Atom CG>\n<Atom CD1>\n<Atom CD2>\n<Atom N>\n<Atom CA>\n<Atom C>\n<Atom O>\n<Atom CB>\n<Atom CG1>\n<Atom CG2>\n<Atom N>\n<Atom CA>\n<Atom C>\n<Atom O>\n<Atom CB>\n<Atom CG>\n<Atom CD>\n<Atom OE1>\n<Atom NE2>\n<Atom N>\n<Atom CA>\n<Atom C>\n<Atom O>\n<Atom CB>\n<Atom N>\n<Atom CA>\n<Atom C>\n<Atom O>\n<Atom N>\n<Atom CA>\n<Atom C>\n<Atom O>\n<Atom CB>\n<Atom CG>\n<Atom OD1>\n<Atom ND2>\n<Atom N>\n<Atom CA>\n<Atom C>\n<Atom O>\n<Atom CB>\n<Atom CG1>\n<Atom CG2>\n<Atom N>\n<Atom CA>\n<Atom C>\n<Atom O>\n<Atom CB>\n<Atom CG>\n<Atom CD>\n<Atom OE1>\n<Atom NE2>\n<Atom N>\n<Atom CA>\n<Atom C>\n<Atom O>\n<Atom CB>\n<Atom CG>\n<Atom CD1>\n<Atom CD2>\n<Atom N>\n<Atom CA>\n<Atom C>\n<Atom O>\n<Atom CB>\n<Atom CG>\n<Atom CD>\n<Atom NE>\n<Atom CZ>\n<Atom NH1>\n<Atom NH2>\n<Atom N>\n<Atom CA>\n<Atom C>\n<Atom O>\n<Atom CB>\n<Atom CG1>\n<Atom CG2>\n<Atom N>\n<Atom CA>\n<Atom C>\n<Atom O>\n<Atom CB>\n<Atom CG1>\n<Atom CG2>\n<Atom CD1>\n<Atom N>\n<Atom CA>\n<Atom C>\n<Atom O>\n<Atom N>\n<Atom CA>\n<Atom C>\n<Atom O>\n<Atom CB>\n<Atom CG>\n<Atom ND1>\n<Atom CD2>\n<Atom CE1>\n<Atom NE2>\n<Atom N>\n<Atom CA>\n<Atom C>\n<Atom O>\n<Atom CB>\n<Atom OG>\n<Atom N>\n<Atom CA>\n<Atom C>\n<Atom O>\n<Atom CB>\n<Atom CG>\n<Atom SD>\n<Atom CE>\n<Atom N>\n<Atom CA>\n<Atom C>\n<Atom O>\n<Atom CB>\n<Atom CG>\n<Atom CD>\n<Atom OE1>\n<Atom NE2>\n<Atom N>\n<Atom CA>\n<Atom C>\n<Atom O>\n<Atom CB>\n<Atom CG>\n<Atom OD1>\n<Atom ND2>\n<Atom N>\n<Atom CA>\n<Atom C>\n<Atom O>\n<Atom CB>\n<Atom SG>\n<Atom N>\n<Atom CA>\n<Atom C>\n<Atom O>\n<Atom CB>\n<Atom CG1>\n<Atom CG2>\n<Atom N>\n<Atom CA>\n<Atom C>\n<Atom O>\n<Atom CB>\n<Atom CG>\n<Atom CD1>\n<Atom CD2>\n<Atom N>\n<Atom CA>\n<Atom C>\n<Atom O>\n<Atom CB>\n<Atom CG>\n<Atom CD>\n<Atom CE>\n<Atom NZ>\n<Atom N>\n<Atom CA>\n<Atom C>\n<Atom O>\n<Atom CB>\n<Atom CG>\n<Atom CD1>\n<Atom CD2>\n<Atom N>\n<Atom CA>\n<Atom C>\n<Atom O>\n<Atom CB>\n<Atom CG>\n<Atom CD>\n<Atom CE>\n<Atom NZ>\n<Atom N>\n<Atom CA>\n<Atom C>\n<Atom O>\n<Atom CB>\n<Atom CG1>\n<Atom CG2>\n<Atom N>\n<Atom CA>\n<Atom C>\n<Atom O>\n<Atom CB>\n<Atom CG>\n<Atom OD1>\n<Atom OD2>\n<Atom N>\n<Atom CA>\n<Atom C>\n<Atom O>\n<Atom CB>\n<Atom OG1>\n<Atom CG2>\n<Atom N>\n<Atom CA>\n<Atom C>\n<Atom O>\n<Atom CB>\n<Atom N>\n<Atom CA>\n<Atom C>\n<Atom O>\n<Atom CB>\n<Atom CG>\n<Atom OD1>\n<Atom ND2>\n<Atom N>\n<Atom CA>\n<Atom C>\n<Atom O>\n<Atom CB>\n<Atom CG>\n<Atom CD>\n<Atom N>\n<Atom CA>\n<Atom C>\n<Atom O>\n<Atom CB>\n<Atom CG>\n<Atom CD>\n<Atom CE>\n<Atom NZ>\n<Atom N>\n<Atom CA>\n<Atom C>\n<Atom O>\n<Atom CB>\n<Atom OG1>\n<Atom CG2>\n<Atom N>\n<Atom CA>\n<Atom C>\n<Atom O>\n<Atom CB>\n<Atom CG>\n<Atom CD>\n<Atom N>\n<Atom CA>\n<Atom C>\n<Atom O>\n<Atom CB>\n<Atom CG>\n<Atom CD>\n<Atom CE>\n<Atom NZ>\n<Atom N>\n<Atom CA>\n<Atom C>\n<Atom O>\n<Atom CB>\n<Atom CG>\n<Atom CD1>\n<Atom CD2>\n<Atom CE1>\n<Atom CE2>\n<Atom CZ>\n<Atom OH>\n<Atom N>\n<Atom CA>\n<Atom C>\n<Atom O>\n<Atom CB>\n<Atom CG>\n<Atom CD>\n<Atom CE>\n<Atom NZ>\n<Atom N>\n<Atom CA>\n<Atom C>\n<Atom O>\n<Atom CB>\n<Atom CG>\n<Atom CD1>\n<Atom CD2>\n<Atom CE1>\n<Atom CE2>\n<Atom CZ>\n<Atom N>\n<Atom CA>\n<Atom C>\n<Atom O>\n<Atom CB>\n<Atom CG1>\n<Atom CG2>\n<Atom N>\n<Atom CA>\n<Atom C>\n<Atom O>\n<Atom CB>\n<Atom CG>\n<Atom CD>\n<Atom NE>\n<Atom CZ>\n<Atom NH1>\n<Atom NH2>\n<Atom N>\n<Atom CA>\n<Atom C>\n<Atom O>\n<Atom CB>\n<Atom CG1>\n<Atom CG2>\n<Atom CD1>\n<Atom N>\n<Atom CA>\n<Atom C>\n<Atom O>\n<Atom CB>\n<Atom CG>\n<Atom CD>\n<Atom OE1>\n<Atom NE2>\n<Atom N>\n<Atom CA>\n<Atom C>\n<Atom O>\n<Atom CB>\n<Atom CG>\n<Atom CD>\n<Atom N>\n<Atom CA>\n<Atom C>\n<Atom O>\n<Atom N>\n<Atom CA>\n<Atom C>\n<Atom O>\n<Atom CB>\n<Atom CG>\n<Atom CD>\n<Atom OE1>\n<Atom NE2>\n<Atom N>\n<Atom CA>\n<Atom C>\n<Atom O>\n<Atom CB>\n<Atom OG1>\n<Atom CG2>\n<Atom N>\n<Atom CA>\n<Atom C>\n<Atom O>\n<Atom CB>\n<Atom CG>\n<Atom CD1>\n<Atom CD2>\n<Atom CE1>\n<Atom CE2>\n<Atom CZ>\n<Atom N>\n<Atom CA>\n<Atom C>\n<Atom O>\n<Atom CB>\n<Atom OG>\n<Atom N>\n<Atom CA>\n<Atom C>\n<Atom O>\n<Atom CB>\n<Atom CG1>\n<Atom CG2>\n<Atom N>\n<Atom CA>\n<Atom C>\n<Atom O>\n<Atom CB>\n<Atom CG>\n<Atom CD1>\n<Atom CD2>\n<Atom N>\n<Atom CA>\n<Atom C>\n<Atom O>\n<Atom CB>\n<Atom N>\n<Atom CA>\n<Atom C>\n<Atom O>\n<Atom CB>\n<Atom SG>\n<Atom N>\n<Atom CA>\n<Atom C>\n<Atom O>\n<Atom CB>\n<Atom CG>\n<Atom CD1>\n<Atom CD2>\n<Atom CE1>\n<Atom CE2>\n<Atom CZ>\n<Atom OH>\n<Atom N>\n<Atom CA>\n<Atom C>\n<Atom O>\n<Atom CB>\n<Atom CG>\n<Atom OD1>\n<Atom ND2>\n<Atom N>\n<Atom CA>\n<Atom C>\n<Atom O>\n<Atom N>\n<Atom CA>\n<Atom C>\n<Atom O>\n<Atom CB>\n<Atom OG>\n<Atom N>\n<Atom CA>\n<Atom C>\n<Atom O>\n<Atom CB>\n<Atom CG>\n<Atom CD>\n<Atom N>\n<Atom CA>\n<Atom C>\n<Atom O>\n<Atom CB>\n<Atom OG>\n<Atom N>\n<Atom CA>\n<Atom C>\n<Atom O>\n<Atom N>\n<Atom CA>\n<Atom C>\n<Atom O>\n<Atom CB>\n<Atom CG1>\n<Atom CG2>\n<Atom N>\n<Atom CA>\n<Atom C>\n<Atom O>\n<Atom CB>\n<Atom CG>\n<Atom CD1>\n<Atom CD2>\n<Atom CE1>\n<Atom CE2>\n<Atom CZ>\n<Atom OH>\n<Atom N>\n<Atom CA>\n<Atom C>\n<Atom O>\n<Atom CB>\n<Atom CG>\n<Atom CD>\n<Atom OE1>\n<Atom NE2>\n<Atom N>\n<Atom CA>\n<Atom C>\n<Atom O>\n<Atom CB>\n<Atom SG>\n<Atom N>\n<Atom CA>\n<Atom C>\n<Atom O>\n<Atom CB>\n<Atom N>\n<Atom CA>\n<Atom C>\n<Atom O>\n<Atom CB>\n<Atom CG>\n<Atom SD>\n<Atom CE>\n<Atom N>\n<Atom CA>\n<Atom C>\n<Atom O>\n<Atom CB>\n<Atom CG>\n<Atom CD>\n<Atom NE>\n<Atom CZ>\n<Atom NH1>\n<Atom NH2>\n<Atom N>\n<Atom CA>\n<Atom C>\n<Atom O>\n<Atom CB>\n<Atom CG>\n<Atom CD>\n<Atom N>\n<Atom CA>\n<Atom C>\n<Atom O>\n<Atom CB>\n<Atom CG>\n<Atom OD1>\n<Atom ND2>\n<Atom N>\n<Atom CA>\n<Atom C>\n<Atom O>\n<Atom CB>\n<Atom CG>\n<Atom CD1>\n<Atom CD2>\n<Atom CE1>\n<Atom CE2>\n<Atom CZ>\n<Atom N>\n<Atom CA>\n<Atom C>\n<Atom O>\n<Atom CB>\n<Atom OG1>\n<Atom CG2>\n<Atom N>\n<Atom CA>\n<Atom C>\n<Atom O>\n<Atom CB>\n<Atom CG1>\n<Atom CG2>\n<Atom CD1>\n<Atom N>\n<Atom CA>\n<Atom C>\n<Atom O>\n<Atom CB>\n<Atom CG>\n<Atom CD>\n<Atom CE>\n<Atom NZ>\n<Atom N>\n<Atom CA>\n<Atom C>\n<Atom O>\n<Atom N>\n<Atom CA>\n<Atom C>\n<Atom O>\n<Atom CB>\n<Atom OG>\n<Atom N>\n<Atom CA>\n<Atom C>\n<Atom O>\n<Atom CB>\n<Atom CG>\n<Atom CD1>\n<Atom CD2>\n<Atom CE1>\n<Atom CE2>\n<Atom CZ>\n<Atom N>\n<Atom CA>\n<Atom C>\n<Atom O>\n<Atom CB>\n<Atom CG>\n<Atom CD1>\n<Atom CD2>\n<Atom N>\n<Atom CA>\n<Atom C>\n<Atom O>\n<Atom CB>\n<Atom CG>\n<Atom OD1>\n<Atom ND2>\n<Atom N>\n<Atom CA>\n<Atom C>\n<Atom O>\n<Atom N>\n<Atom CA>\n<Atom C>\n<Atom O>\n<Atom CB>\n<Atom OG>\n<Atom N>\n<Atom CA>\n<Atom C>\n<Atom O>\n<Atom CB>\n<Atom SG>\n<Atom N>\n<Atom CA>\n<Atom C>\n<Atom O>\n<Atom N>\n<Atom CA>\n<Atom C>\n<Atom O>\n<Atom CB>\n<Atom OG>\n<Atom N>\n<Atom CA>\n<Atom C>\n<Atom O>\n<Atom CB>\n<Atom CG1>\n<Atom CG2>\n<Atom N>\n<Atom CA>\n<Atom C>\n<Atom O>\n<Atom N>\n<Atom CA>\n<Atom C>\n<Atom O>\n<Atom CB>\n<Atom CG>\n<Atom CD1>\n<Atom CD2>\n<Atom CE1>\n<Atom CE2>\n<Atom CZ>\n<Atom N>\n<Atom CA>\n<Atom C>\n<Atom O>\n<Atom CB>\n<Atom CG>\n<Atom OD1>\n<Atom ND2>\n<Atom N>\n<Atom CA>\n<Atom C>\n<Atom O>\n<Atom CB>\n<Atom CG1>\n<Atom CG2>\n<Atom CD1>\n<Atom N>\n<Atom CA>\n<Atom C>\n<Atom O>\n<Atom CB>\n<Atom CG>\n<Atom OD1>\n<Atom OD2>\n<Atom N>\n<Atom CA>\n<Atom C>\n<Atom O>\n<Atom CB>\n<Atom CG>\n<Atom CD1>\n<Atom CD2>\n<Atom CE1>\n<Atom CE2>\n<Atom CZ>\n<Atom OH>\n<Atom N>\n<Atom CA>\n<Atom C>\n<Atom O>\n<Atom CB>\n<Atom CG>\n<Atom OD1>\n<Atom OD2>\n<Atom N>\n<Atom CA>\n<Atom C>\n<Atom O>\n<Atom CB>\n<Atom SG>\n<Atom N>\n<Atom CA>\n<Atom C>\n<Atom O>\n<Atom CB>\n<Atom CG1>\n<Atom CG2>\n<Atom N>\n<Atom CA>\n<Atom C>\n<Atom O>\n<Atom CB>\n<Atom OG>\n<Atom N>\n<Atom CA>\n<Atom C>\n<Atom O>\n<Atom CB>\n<Atom CG>\n<Atom CD1>\n<Atom CD2>\n<Atom CE1>\n<Atom CE2>\n<Atom CZ>\n<Atom N>\n<Atom CA>\n<Atom C>\n<Atom O>\n<Atom CB>\n<Atom SG>\n<Atom N>\n<Atom CA>\n<Atom C>\n<Atom O>\n<Atom CB>\n<Atom CG>\n<Atom CD1>\n<Atom CD2>\n<Atom CE1>\n<Atom CE2>\n<Atom CZ>\n<Atom OH>\n<Atom N>\n<Atom CA>\n<Atom C>\n<Atom O>\n<Atom CB>\n<Atom CG>\n<Atom SD>\n<Atom CE>\n<Atom N>\n<Atom CA>\n<Atom C>\n<Atom O>\n<Atom CB>\n<Atom CG>\n<Atom ND1>\n<Atom CD2>\n<Atom CE1>\n<Atom NE2>\n<Atom N>\n<Atom CA>\n<Atom C>\n<Atom O>\n<Atom CB>\n<Atom CG>\n<Atom ND1>\n<Atom CD2>\n<Atom CE1>\n<Atom NE2>\n<Atom N>\n<Atom CA>\n<Atom C>\n<Atom O>\n<Atom CB>\n<Atom CG>\n<Atom SD>\n<Atom CE>\n<Atom N>\n<Atom CA>\n<Atom C>\n<Atom O>\n<Atom CB>\n<Atom CG>\n<Atom CD>\n<Atom OE1>\n<Atom OE2>\n<Atom N>\n<Atom CA>\n<Atom C>\n<Atom O>\n<Atom CB>\n<Atom CG>\n<Atom CD1>\n<Atom CD2>\n<Atom N>\n<Atom CA>\n<Atom C>\n<Atom O>\n<Atom CB>\n<Atom CG>\n<Atom CD>\n<Atom N>\n<Atom CA>\n<Atom C>\n<Atom O>\n<Atom CB>\n<Atom OG1>\n<Atom CG2>\n<Atom N>\n<Atom CA>\n<Atom C>\n<Atom O>\n<Atom N>\n<Atom CA>\n<Atom C>\n<Atom O>\n<Atom CB>\n<Atom CG1>\n<Atom CG2>\n<Atom N>\n<Atom CA>\n<Atom C>\n<Atom O>\n<Atom CB>\n<Atom CG>\n<Atom ND1>\n<Atom CD2>\n<Atom CE1>\n<Atom NE2>\n<Atom N>\n<Atom CA>\n<Atom C>\n<Atom O>\n<Atom CB>\n<Atom N>\n<Atom CA>\n<Atom C>\n<Atom O>\n<Atom N>\n<Atom CA>\n<Atom C>\n<Atom O>\n<Atom CB>\n<Atom OG1>\n<Atom CG2>\n<Atom N>\n<Atom CA>\n<Atom C>\n<Atom O>\n<Atom CB>\n<Atom CG>\n<Atom OD1>\n<Atom OD2>\n<Atom N>\n<Atom CA>\n<Atom C>\n<Atom O>\n<Atom CB>\n<Atom CG>\n<Atom CD1>\n<Atom CD2>\n<Atom N>\n<Atom CA>\n<Atom C>\n<Atom O>\n<Atom CB>\n<Atom CG>\n<Atom CD>\n<Atom OE1>\n<Atom OE2>\n<Atom N>\n<Atom CA>\n<Atom C>\n<Atom O>\n<Atom N>\n<Atom CA>\n<Atom C>\n<Atom O>\n<Atom CB>\n<Atom CG>\n<Atom OD1>\n<Atom ND2>\n<Atom N>\n<Atom CA>\n<Atom C>\n<Atom O>\n<Atom CB>\n<Atom CG>\n<Atom CD1>\n<Atom CD2>\n<Atom CE1>\n<Atom CE2>\n<Atom CZ>\n<Atom N>\n<Atom CA>\n<Atom C>\n<Atom O>\n<Atom CB>\n<Atom CG>\n<Atom CD1>\n<Atom CD2>\n<Atom CE1>\n<Atom CE2>\n<Atom CZ>\n<Atom OH>\n<Atom N>\n<Atom CA>\n<Atom C>\n<Atom O>\n<Atom N>\n<Atom CA>\n<Atom C>\n<Atom O>\n<Atom CB>\n<Atom CG>\n<Atom CD>\n<Atom N>\n<Atom CA>\n<Atom C>\n<Atom O>\n<Atom CB>\n<Atom CG>\n<Atom CD1>\n<Atom CD2>\n<Atom CE1>\n<Atom CE2>\n<Atom CZ>\n<Atom N>\n<Atom CA>\n<Atom C>\n<Atom O>\n<Atom CB>\n<Atom CG1>\n<Atom CG2>\n<Atom N>\n<Atom CA>\n<Atom C>\n<Atom O>\n<Atom CB>\n<Atom CG>\n<Atom OD1>\n<Atom OD2>\n<Atom N>\n<Atom CA>\n<Atom C>\n<Atom O>\n<Atom CB>\n<Atom CG>\n<Atom CD>\n<Atom NE>\n<Atom CZ>\n<Atom NH1>\n<Atom NH2>\n<Atom N>\n<Atom CA>\n<Atom C>\n<Atom O>\n<Atom CB>\n<Atom CG>\n<Atom CD>\n<Atom OE1>\n<Atom NE2>\n<Atom N>\n<Atom CA>\n<Atom C>\n<Atom O>\n<Atom CB>\n<Atom OG1>\n<Atom CG2>\n<Atom N>\n<Atom CA>\n<Atom C>\n<Atom O>\n<Atom CB>\n<Atom N>\n<Atom CA>\n<Atom C>\n<Atom O>\n<Atom CB>\n<Atom CG>\n<Atom CD>\n<Atom OE1>\n<Atom NE2>\n<Atom N>\n<Atom CA>\n<Atom C>\n<Atom O>\n<Atom CB>\n<Atom N>\n<Atom CA>\n<Atom C>\n<Atom O>\n<Atom CB>\n<Atom N>\n<Atom CA>\n<Atom C>\n<Atom O>\n<Atom N>\n<Atom CA>\n<Atom C>\n<Atom O>\n<Atom CB>\n<Atom OG1>\n<Atom CG2>\n<Atom N>\n<Atom CA>\n<Atom C>\n<Atom O>\n<Atom CB>\n<Atom CG>\n<Atom OD1>\n<Atom OD2>\n<Atom N>\n<Atom CA>\n<Atom C>\n<Atom O>\n<Atom CB>\n<Atom OG1>\n<Atom CG2>\n<Atom N>\n<Atom CA>\n<Atom C>\n<Atom O>\n<Atom CB>\n<Atom OG1>\n<Atom CG2>\n<Atom N>\n<Atom CA>\n<Atom C>\n<Atom O>\n<Atom CB>\n<Atom CG1>\n<Atom CG2>\n<Atom CD1>\n<Atom N>\n<Atom CA>\n<Atom C>\n<Atom O>\n<Atom CB>\n<Atom OG1>\n<Atom CG2>\n<Atom N>\n<Atom CA>\n<Atom C>\n<Atom O>\n<Atom CB>\n<Atom CG1>\n<Atom CG2>\n<Atom N>\n<Atom CA>\n<Atom C>\n<Atom O>\n<Atom CB>\n<Atom CG>\n<Atom OD1>\n<Atom ND2>\n<Atom N>\n<Atom CA>\n<Atom C>\n<Atom O>\n<Atom CB>\n<Atom CG1>\n<Atom CG2>\n<Atom N>\n<Atom CA>\n<Atom C>\n<Atom O>\n<Atom CB>\n<Atom CG>\n<Atom CD1>\n<Atom CD2>\n<Atom N>\n<Atom CA>\n<Atom C>\n<Atom O>\n<Atom CB>\n<Atom N>\n<Atom CA>\n<Atom C>\n<Atom O>\n<Atom CB>\n<Atom CG>\n<Atom CD1>\n<Atom CD2>\n<Atom NE1>\n<Atom CE2>\n<Atom CE3>\n<Atom CZ2>\n<Atom CZ3>\n<Atom CH2>\n<Atom N>\n<Atom CA>\n<Atom C>\n<Atom O>\n<Atom CB>\n<Atom CG>\n<Atom CD1>\n<Atom CD2>\n<Atom N>\n<Atom CA>\n<Atom C>\n<Atom O>\n<Atom CB>\n<Atom CG>\n<Atom CD1>\n<Atom CD2>\n<Atom CE1>\n<Atom CE2>\n<Atom CZ>\n<Atom OH>\n<Atom N>\n<Atom CA>\n<Atom C>\n<Atom O>\n<Atom CB>\n<Atom N>\n<Atom CA>\n<Atom C>\n<Atom O>\n<Atom CB>\n<Atom N>\n<Atom CA>\n<Atom C>\n<Atom O>\n<Atom CB>\n<Atom CG1>\n<Atom CG2>\n<Atom N>\n<Atom CA>\n<Atom C>\n<Atom O>\n<Atom CB>\n<Atom CG1>\n<Atom CG2>\n<Atom CD1>\n<Atom N>\n<Atom CA>\n<Atom C>\n<Atom O>\n<Atom CB>\n<Atom CG>\n<Atom OD1>\n<Atom ND2>\n<Atom N>\n<Atom CA>\n<Atom C>\n<Atom O>\n<Atom N>\n<Atom CA>\n<Atom C>\n<Atom O>\n<Atom CB>\n<Atom CG>\n<Atom OD1>\n<Atom OD2>\n<Atom N>\n<Atom CA>\n<Atom C>\n<Atom O>\n<Atom CB>\n<Atom CG>\n<Atom CD>\n<Atom NE>\n<Atom CZ>\n<Atom NH1>\n<Atom NH2>\n<Atom N>\n<Atom CA>\n<Atom C>\n<Atom O>\n<Atom CB>\n<Atom CG>\n<Atom CD1>\n<Atom CD2>\n<Atom NE1>\n<Atom CE2>\n<Atom CE3>\n<Atom CZ2>\n<Atom CZ3>\n<Atom CH2>\n<Atom N>\n<Atom CA>\n<Atom C>\n<Atom O>\n<Atom CB>\n<Atom CG>\n<Atom CD1>\n<Atom CD2>\n<Atom CE1>\n<Atom CE2>\n<Atom CZ>\n<Atom N>\n<Atom CA>\n<Atom C>\n<Atom O>\n<Atom CB>\n<Atom CG>\n<Atom CD1>\n<Atom CD2>\n<Atom N>\n<Atom CA>\n<Atom C>\n<Atom O>\n<Atom CB>\n<Atom CG>\n<Atom OD1>\n<Atom ND2>\n<Atom N>\n<Atom CA>\n<Atom C>\n<Atom O>\n<Atom CB>\n<Atom CG>\n<Atom CD>\n<Atom NE>\n<Atom CZ>\n<Atom NH1>\n<Atom NH2>\n<Atom N>\n<Atom CA>\n<Atom C>\n<Atom O>\n<Atom CB>\n<Atom CG>\n<Atom CD1>\n<Atom CD2>\n<Atom CE1>\n<Atom CE2>\n<Atom CZ>\n<Atom N>\n<Atom CA>\n<Atom C>\n<Atom O>\n<Atom CB>\n<Atom OG1>\n<Atom CG2>\n<Atom N>\n<Atom CA>\n<Atom C>\n<Atom O>\n<Atom CB>\n<Atom OG1>\n<Atom CG2>\n<Atom N>\n<Atom CA>\n<Atom C>\n<Atom O>\n<Atom CB>\n<Atom OG1>\n<Atom CG2>\n<Atom N>\n<Atom CA>\n<Atom C>\n<Atom O>\n<Atom CB>\n<Atom CG>\n<Atom CD1>\n<Atom CD2>\n<Atom N>\n<Atom CA>\n<Atom C>\n<Atom O>\n<Atom CB>\n<Atom CG>\n<Atom OD1>\n<Atom ND2>\n<Atom N>\n<Atom CA>\n<Atom C>\n<Atom O>\n<Atom CB>\n<Atom CG>\n<Atom OD1>\n<Atom OD2>\n<Atom N>\n<Atom CA>\n<Atom C>\n<Atom O>\n<Atom CB>\n<Atom CG>\n<Atom CD1>\n<Atom CD2>\n<Atom CE1>\n<Atom CE2>\n<Atom CZ>\n<Atom N>\n<Atom CA>\n<Atom C>\n<Atom O>\n<Atom CB>\n<Atom CG>\n<Atom OD1>\n<Atom ND2>\n<Atom N>\n<Atom CA>\n<Atom C>\n<Atom O>\n<Atom CB>\n<Atom CG>\n<Atom CD1>\n<Atom CD2>\n<Atom N>\n<Atom CA>\n<Atom C>\n<Atom O>\n<Atom CB>\n<Atom CG1>\n<Atom CG2>\n<Atom N>\n<Atom CA>\n<Atom C>\n<Atom O>\n<Atom CB>\n<Atom N>\n<Atom CA>\n<Atom C>\n<Atom O>\n<Atom CB>\n<Atom CG>\n<Atom SD>\n<Atom CE>\n<Atom N>\n<Atom CA>\n<Atom C>\n<Atom O>\n<Atom CB>\n<Atom CG>\n<Atom CD>\n<Atom CE>\n<Atom NZ>\n<Atom N>\n<Atom CA>\n<Atom C>\n<Atom O>\n<Atom CB>\n<Atom CG>\n<Atom CD1>\n<Atom CD2>\n<Atom CE1>\n<Atom CE2>\n<Atom CZ>\n<Atom OH>\n<Atom N>\n<Atom CA>\n<Atom C>\n<Atom O>\n<Atom CB>\n<Atom CG>\n<Atom OD1>\n<Atom ND2>\n<Atom N>\n<Atom CA>\n<Atom C>\n<Atom O>\n<Atom CB>\n<Atom CG>\n<Atom CD1>\n<Atom CD2>\n<Atom CE1>\n<Atom CE2>\n<Atom CZ>\n<Atom OH>\n<Atom N>\n<Atom CA>\n<Atom C>\n<Atom O>\n<Atom CB>\n<Atom CG>\n<Atom CD>\n<Atom OE1>\n<Atom OE2>\n<Atom N>\n<Atom CA>\n<Atom C>\n<Atom O>\n<Atom CB>\n<Atom CG>\n<Atom CD>\n<Atom N>\n<Atom CA>\n<Atom C>\n<Atom O>\n<Atom CB>\n<Atom CG>\n<Atom CD1>\n<Atom CD2>\n<Atom N>\n<Atom CA>\n<Atom C>\n<Atom O>\n<Atom CB>\n<Atom OG1>\n<Atom CG2>\n<Atom N>\n<Atom CA>\n<Atom C>\n<Atom O>\n<Atom CB>\n<Atom CG>\n<Atom CD>\n<Atom OE1>\n<Atom NE2>\n<Atom N>\n<Atom CA>\n<Atom C>\n<Atom O>\n<Atom CB>\n<Atom CG>\n<Atom OD1>\n<Atom OD2>\n<Atom N>\n<Atom CA>\n<Atom C>\n<Atom O>\n<Atom CB>\n<Atom CG>\n<Atom ND1>\n<Atom CD2>\n<Atom CE1>\n<Atom NE2>\n<Atom N>\n<Atom CA>\n<Atom C>\n<Atom O>\n<Atom CB>\n<Atom CG1>\n<Atom CG2>\n<Atom N>\n<Atom CA>\n<Atom C>\n<Atom O>\n<Atom CB>\n<Atom CG>\n<Atom OD1>\n<Atom OD2>\n<Atom N>\n<Atom CA>\n<Atom C>\n<Atom O>\n<Atom CB>\n<Atom CG1>\n<Atom CG2>\n<Atom CD1>\n<Atom N>\n<Atom CA>\n<Atom C>\n<Atom O>\n<Atom CB>\n<Atom CG>\n<Atom CD1>\n<Atom CD2>\n<Atom N>\n<Atom CA>\n<Atom C>\n<Atom O>\n<Atom N>\n<Atom CA>\n<Atom C>\n<Atom O>\n<Atom CB>\n<Atom CG>\n<Atom CD>\n<Atom N>\n<Atom CA>\n<Atom C>\n<Atom O>\n<Atom CB>\n<Atom CG>\n<Atom CD1>\n<Atom CD2>\n<Atom N>\n<Atom CA>\n<Atom C>\n<Atom O>\n<Atom CB>\n<Atom OG>\n<Atom N>\n<Atom CA>\n<Atom C>\n<Atom O>\n<Atom CB>\n<Atom N>\n<Atom CA>\n<Atom C>\n<Atom O>\n<Atom CB>\n<Atom CG>\n<Atom CD>\n<Atom OE1>\n<Atom NE2>\n<Atom N>\n<Atom CA>\n<Atom C>\n<Atom O>\n<Atom CB>\n<Atom OG1>\n<Atom CG2>\n<Atom N>\n<Atom CA>\n<Atom C>\n<Atom O>\n<Atom N>\n<Atom CA>\n<Atom C>\n<Atom O>\n<Atom CB>\n<Atom CG1>\n<Atom CG2>\n<Atom CD1>\n<Atom N>\n<Atom CA>\n<Atom C>\n<Atom O>\n<Atom CB>\n<Atom N>\n<Atom CA>\n<Atom C>\n<Atom O>\n<Atom CB>\n<Atom CG1>\n<Atom CG2>\n<Atom N>\n<Atom CA>\n<Atom C>\n<Atom O>\n<Atom CB>\n<Atom CG>\n<Atom CD1>\n<Atom CD2>\n<Atom N>\n<Atom CA>\n<Atom C>\n<Atom O>\n<Atom CB>\n<Atom CG>\n<Atom OD1>\n<Atom OD2>\n<Atom N>\n<Atom CA>\n<Atom C>\n<Atom O>\n<Atom CB>\n<Atom CG>\n<Atom SD>\n<Atom CE>\n<Atom N>\n<Atom CA>\n<Atom C>\n<Atom O>\n<Atom CB>\n<Atom SG>\n<Atom N>\n<Atom CA>\n<Atom C>\n<Atom O>\n<Atom CB>\n<Atom N>\n<Atom CA>\n<Atom C>\n<Atom O>\n<Atom CB>\n<Atom OG>\n<Atom N>\n<Atom CA>\n<Atom C>\n<Atom O>\n<Atom CB>\n<Atom CG>\n<Atom CD1>\n<Atom CD2>\n<Atom N>\n<Atom CA>\n<Atom C>\n<Atom O>\n<Atom CB>\n<Atom CG>\n<Atom CD>\n<Atom CE>\n<Atom NZ>\n<Atom N>\n<Atom CA>\n<Atom C>\n<Atom O>\n<Atom CB>\n<Atom CG>\n<Atom CD>\n<Atom OE1>\n<Atom OE2>\n<Atom N>\n<Atom CA>\n<Atom C>\n<Atom O>\n<Atom CB>\n<Atom CG>\n<Atom CD1>\n<Atom CD2>\n<Atom N>\n<Atom CA>\n<Atom C>\n<Atom O>\n<Atom CB>\n<Atom CG>\n<Atom CD1>\n<Atom CD2>\n<Atom N>\n<Atom CA>\n<Atom C>\n<Atom O>\n<Atom CB>\n<Atom CG>\n<Atom CD>\n<Atom OE1>\n<Atom NE2>\n<Atom N>\n<Atom CA>\n<Atom C>\n<Atom O>\n<Atom CB>\n<Atom CG>\n<Atom OD1>\n<Atom ND2>\n<Atom N>\n<Atom CA>\n<Atom C>\n<Atom O>\n<Atom N>\n<Atom CA>\n<Atom C>\n<Atom O>\n<Atom CB>\n<Atom CG>\n<Atom SD>\n<Atom CE>\n<Atom N>\n<Atom CA>\n<Atom C>\n<Atom O>\n<Atom CB>\n<Atom CG>\n<Atom OD1>\n<Atom ND2>\n<Atom N>\n<Atom CA>\n<Atom C>\n<Atom O>\n<Atom N>\n<Atom CA>\n<Atom C>\n<Atom O>\n<Atom CB>\n<Atom CG>\n<Atom CD>\n<Atom NE>\n<Atom CZ>\n<Atom NH1>\n<Atom NH2>\n<Atom N>\n<Atom CA>\n<Atom C>\n<Atom O>\n<Atom CB>\n<Atom OG1>\n<Atom CG2>\n<Atom N>\n<Atom CA>\n<Atom C>\n<Atom O>\n<Atom CB>\n<Atom CG1>\n<Atom CG2>\n<Atom CD1>\n<Atom N>\n<Atom CA>\n<Atom C>\n<Atom O>\n<Atom CB>\n<Atom CG>\n<Atom CD1>\n<Atom CD2>\n<Atom N>\n<Atom CA>\n<Atom C>\n<Atom O>\n<Atom N>\n<Atom CA>\n<Atom C>\n<Atom O>\n<Atom CB>\n<Atom OG>\n<Atom N>\n<Atom CA>\n<Atom C>\n<Atom O>\n<Atom CB>\n<Atom N>\n<Atom CA>\n<Atom C>\n<Atom O>\n<Atom CB>\n<Atom CG>\n<Atom CD1>\n<Atom CD2>\n<Atom N>\n<Atom CA>\n<Atom C>\n<Atom O>\n<Atom CB>\n<Atom CG>\n<Atom CD1>\n<Atom CD2>\n<Atom N>\n<Atom CA>\n<Atom C>\n<Atom O>\n<Atom CB>\n<Atom CG>\n<Atom CD>\n<Atom OE1>\n<Atom OE2>\n<Atom N>\n<Atom CA>\n<Atom C>\n<Atom O>\n<Atom CB>\n<Atom CG>\n<Atom OD1>\n<Atom OD2>\n<Atom N>\n<Atom CA>\n<Atom C>\n<Atom O>\n<Atom CB>\n<Atom CG>\n<Atom CD>\n<Atom OE1>\n<Atom OE2>\n<Atom N>\n<Atom CA>\n<Atom C>\n<Atom O>\n<Atom CB>\n<Atom CG>\n<Atom CD1>\n<Atom CD2>\n<Atom CE1>\n<Atom CE2>\n<Atom CZ>\n<Atom N>\n<Atom CA>\n<Atom C>\n<Atom O>\n<Atom CB>\n<Atom OG1>\n<Atom CG2>\n<Atom N>\n<Atom CA>\n<Atom C>\n<Atom O>\n<Atom CB>\n<Atom CG>\n<Atom CD>\n<Atom N>\n<Atom CA>\n<Atom C>\n<Atom O>\n<Atom CB>\n<Atom CG>\n<Atom CD1>\n<Atom CD2>\n<Atom CE1>\n<Atom CE2>\n<Atom CZ>\n<Atom N>\n<Atom CA>\n<Atom C>\n<Atom O>\n<Atom CB>\n<Atom CG>\n<Atom OD1>\n<Atom OD2>\n<Atom N>\n<Atom CA>\n<Atom C>\n<Atom O>\n<Atom CB>\n<Atom CG1>\n<Atom CG2>\n<Atom N>\n<Atom CA>\n<Atom C>\n<Atom O>\n<Atom CB>\n<Atom CG1>\n<Atom CG2>\n<Atom N>\n<Atom CA>\n<Atom C>\n<Atom O>\n<Atom CB>\n<Atom CG>\n<Atom CD>\n<Atom NE>\n<Atom CZ>\n<Atom NH1>\n<Atom NH2>\n<Atom N>\n<Atom CA>\n<Atom C>\n<Atom O>\n<Atom CB>\n<Atom CG>\n<Atom CD>\n<Atom OE1>\n<Atom NE2>\n<Atom N>\n<Atom CA>\n<Atom C>\n<Atom O>\n<Atom CB>\n<Atom SG>\n<Atom N>\n<Atom CA>\n<Atom C>\n<Atom O>\n<Atom CB>\n<Atom OG>\n<Atom N>\n<Atom CA>\n<Atom C>\n<Atom O>\n<Atom N>\n<Atom CA>\n<Atom C>\n<Atom O>\n<Atom CB>\n<Atom CG1>\n<Atom CG2>\n<Atom N>\n<Atom CA>\n<Atom C>\n<Atom O>\n<Atom CB>\n<Atom OG1>\n<Atom CG2>\n<Atom N>\n<Atom CA>\n<Atom C>\n<Atom O>\n<Atom CB>\n<Atom CG>\n<Atom CD1>\n<Atom CD2>\n<Atom CE1>\n<Atom CE2>\n<Atom CZ>\n<Atom N>\n<Atom CA>\n<Atom C>\n<Atom O>\n<Atom CB>\n<Atom CG>\n<Atom CD>\n<Atom OE1>\n<Atom NE2>\n<Atom O>\n<Atom O>\n<Atom O>\n<Atom O>\n<Atom O>\n<Atom O>\n<Atom O>\n<Atom O>\n<Atom O>\n<Atom O>\n<Atom O>\n<Atom O>\n<Atom O>\n<Atom O>\n<Atom O>\n<Atom O>\n<Atom O>\n<Atom O>\n<Atom O>\n<Atom O>\n<Atom O>\n<Atom O>\n<Atom O>\n<Atom O>\n<Atom O>\n<Atom O>\n<Atom O>\n<Atom O>\n<Atom O>\n<Atom O>\n<Atom O>\n<Atom O>\n<Atom O>\n<Atom O>\n<Atom O>\n<Atom O>\n<Atom O>\n<Atom O>\n<Atom O>\n<Atom O>\n<Atom O>\n<Atom O>\n<Atom O>\n<Atom O>\n<Atom O>\n<Atom O>\n<Atom O>\n<Atom O>\n<Atom O>\n<Atom O>\n<Atom O>\n<Atom O>\n<Atom O>\n<Atom O>\n<Atom O>\n<Atom O>\n<Atom O>\n<Atom O>\n<Atom O>\n<Atom O>\n<Atom O>\n<Atom O>\n<Atom O>\n<Atom O>\n<Atom O>\n<Atom O>\n<Atom O>\n<Atom O>\n<Atom O>\n<Atom O>\n<Atom O>\n<Atom O>\n<Atom O>\n<Atom O>\n<Atom O>\n<Atom O>\n<Atom O>\n<Atom O>\n<Atom O>\n<Atom O>\n<Atom O>\n<Atom O>\n<Atom O>\n<Atom O>\n<Chain id=C>\n<Atom C4>\n<Atom C5>\n<Atom C6>\n<Atom O1>\n<Atom N2>\n<Atom C3>\n<Atom C41>\n<Atom O42>\n<Atom N>\n<Atom CA>\n<Atom C>\n<Atom O>\n<Atom CB>\n<Atom N>\n<Atom CA>\n<Atom C>\n<Atom O>\n<Atom CB>\n<Atom CG1>\n<Atom CG2>\n<Atom N>\n<Atom CA>\n<Atom C>\n<Atom O>\n<Atom CB>\n<Atom CG>\n<Atom CD1>\n<Atom CD2>\n<Atom C19>\n<Atom C20>\n<Atom C21>\n<Atom C22>\n<Atom C25>\n<Atom C26>\n<Atom C27>\n<Atom C28>\n<Atom N6>\n<Atom C29>\n<Atom O8>\n<Atom N5>\n<Atom O7>\n<Atom C>\n<Atom O>\n<Atom C1>\n<Atom C2>\n<Atom C3>\n<Atom C4>\n<Atom C5>\n<Atom C6>\n"
    }
   ],
   "source": [
    "# Check the atoms\n",
    "for model in structure:\n",
    "    print(model)\n",
    "    for chain in model:\n",
    "        print(chain)\n",
    "        for residue in chain:\n",
    "            for atom in residue:\n",
    "                print(atom)"
   ]
  },
  {
   "cell_type": "code",
   "execution_count": 68,
   "metadata": {},
   "outputs": [],
   "source": [
    "# 3d visualizatiom\n",
    "import nglview as nv"
   ]
  },
  {
   "cell_type": "code",
   "execution_count": 90,
   "metadata": {},
   "outputs": [
    {
     "output_type": "display_data",
     "data": {
      "text/plain": "NGLWidget()",
      "application/vnd.jupyter.widget-view+json": {
       "version_major": 2,
       "version_minor": 0,
       "model_id": "7c6d2f2d879b467dbe9ef7fa510077ff"
      }
     },
     "metadata": {}
    }
   ],
   "source": [
    "nv.demo() #to check if working"
   ]
  },
  {
   "cell_type": "code",
   "execution_count": 104,
   "metadata": {},
   "outputs": [],
   "source": [
    "view =  nv.show_biopython(structure)"
   ]
  },
  {
   "cell_type": "code",
   "execution_count": 105,
   "metadata": {},
   "outputs": [
    {
     "output_type": "display_data",
     "data": {
      "text/plain": "NGLWidget()",
      "application/vnd.jupyter.widget-view+json": {
       "version_major": 2,
       "version_minor": 0,
       "model_id": "aa9dffbf43984f579bbc6f93a2b63dd0"
      }
     },
     "metadata": {}
    }
   ],
   "source": [
    "view"
   ]
  },
  {
   "cell_type": "code",
   "execution_count": 64,
   "metadata": {},
   "outputs": [],
   "source": [
    "#using py3mol\n",
    "import py3Dmol"
   ]
  },
  {
   "cell_type": "code",
   "execution_count": 94,
   "metadata": {},
   "outputs": [],
   "source": [
    "view2 = py3Dmol.view(query='pdb:6LU7')"
   ]
  },
  {
   "cell_type": "code",
   "execution_count": 95,
   "metadata": {},
   "outputs": [
    {
     "output_type": "display_data",
     "data": {
      "application/3dmoljs_load.v0": "<div id=\"3dmolviewer_15988675875666292\"  style=\"position: relative; width: 640px; height: 480px\">\n        <p id=\"3dmolwarning_15988675875666292\" style=\"background-color:#ffcccc;color:black\">You appear to be running in JupyterLab (or JavaScript failed to load for some other reason).  You need to install the 3dmol extension: <br>\n        <tt>jupyter labextension install jupyterlab_3dmol</tt></p>\n        </div>\n<script>\n\nvar loadScriptAsync = function(uri){\n  return new Promise((resolve, reject) => {\n    var tag = document.createElement('script');\n    tag.src = uri;\n    tag.async = true;\n    tag.onload = () => {\n      resolve();\n    };\n  var firstScriptTag = document.getElementsByTagName('script')[0];\n  firstScriptTag.parentNode.insertBefore(tag, firstScriptTag);\n});\n};\n\nif(typeof $3Dmolpromise === 'undefined') {\n$3Dmolpromise = null;\n  $3Dmolpromise = loadScriptAsync('https://3dmol.org/build/3Dmol.js');\n}\n\nvar viewer_15988675875666292 = null;\nvar warn = document.getElementById(\"3dmolwarning_15988675875666292\");\nif(warn) {\n    warn.parentNode.removeChild(warn);\n}\n$3Dmolpromise.then(function() {\nviewer_15988675875666292 = $3Dmol.createViewer($(\"#3dmolviewer_15988675875666292\"),{backgroundColor:\"white\"});\n$3Dmol.download(\"pdb:6LU7\", viewer_15988675875666292, {}, function() {\n\tviewer_15988675875666292.setStyle({\"cartoon\": {\"color\": \"spectrum\"}});\nviewer_15988675875666292.render();\n})\n});\n</script>",
      "text/html": "<div id=\"3dmolviewer_15988675875666292\"  style=\"position: relative; width: 640px; height: 480px\">\n        <p id=\"3dmolwarning_15988675875666292\" style=\"background-color:#ffcccc;color:black\">You appear to be running in JupyterLab (or JavaScript failed to load for some other reason).  You need to install the 3dmol extension: <br>\n        <tt>jupyter labextension install jupyterlab_3dmol</tt></p>\n        </div>\n<script>\n\nvar loadScriptAsync = function(uri){\n  return new Promise((resolve, reject) => {\n    var tag = document.createElement('script');\n    tag.src = uri;\n    tag.async = true;\n    tag.onload = () => {\n      resolve();\n    };\n  var firstScriptTag = document.getElementsByTagName('script')[0];\n  firstScriptTag.parentNode.insertBefore(tag, firstScriptTag);\n});\n};\n\nif(typeof $3Dmolpromise === 'undefined') {\n$3Dmolpromise = null;\n  $3Dmolpromise = loadScriptAsync('https://3dmol.org/build/3Dmol.js');\n}\n\nvar viewer_15988675875666292 = null;\nvar warn = document.getElementById(\"3dmolwarning_15988675875666292\");\nif(warn) {\n    warn.parentNode.removeChild(warn);\n}\n$3Dmolpromise.then(function() {\nviewer_15988675875666292 = $3Dmol.createViewer($(\"#3dmolviewer_15988675875666292\"),{backgroundColor:\"white\"});\n$3Dmol.download(\"pdb:6LU7\", viewer_15988675875666292, {}, function() {\n\tviewer_15988675875666292.setStyle({\"cartoon\": {\"color\": \"spectrum\"}});\nviewer_15988675875666292.render();\n})\n});\n</script>"
     },
     "metadata": {}
    },
    {
     "output_type": "execute_result",
     "data": {
      "text/plain": "<py3Dmol.view at 0x7fde37ea6a90>"
     },
     "metadata": {},
     "execution_count": 95
    }
   ],
   "source": [
    "view2.setStyle({'cartoon':{'color':'spectrum'}})\n"
   ]
  },
  {
   "cell_type": "code",
   "execution_count": 96,
   "metadata": {
    "tags": []
   },
   "outputs": [
    {
     "output_type": "display_data",
     "data": {
      "application/3dmoljs_load.v0": "<div id=\"3dmolviewer_1598867594739101\"  style=\"position: relative; width: 640px; height: 480px\">\n        <p id=\"3dmolwarning_1598867594739101\" style=\"background-color:#ffcccc;color:black\">You appear to be running in JupyterLab (or JavaScript failed to load for some other reason).  You need to install the 3dmol extension: <br>\n        <tt>jupyter labextension install jupyterlab_3dmol</tt></p>\n        </div>\n<script>\n\nvar loadScriptAsync = function(uri){\n  return new Promise((resolve, reject) => {\n    var tag = document.createElement('script');\n    tag.src = uri;\n    tag.async = true;\n    tag.onload = () => {\n      resolve();\n    };\n  var firstScriptTag = document.getElementsByTagName('script')[0];\n  firstScriptTag.parentNode.insertBefore(tag, firstScriptTag);\n});\n};\n\nif(typeof $3Dmolpromise === 'undefined') {\n$3Dmolpromise = null;\n  $3Dmolpromise = loadScriptAsync('https://3dmol.org/build/3Dmol.js');\n}\n\nvar viewer_1598867594739101 = null;\nvar warn = document.getElementById(\"3dmolwarning_1598867594739101\");\nif(warn) {\n    warn.parentNode.removeChild(warn);\n}\n$3Dmolpromise.then(function() {\nviewer_1598867594739101 = $3Dmol.createViewer($(\"#3dmolviewer_1598867594739101\"),{backgroundColor:\"white\"});\n$3Dmol.download(\"pdb:6LU7\", viewer_1598867594739101, {}, function() {\n\tviewer_1598867594739101.setStyle({\"cartoon\": {\"color\": \"spectrum\"}});\n\tviewer_1598867594739101.render_image();\nviewer_1598867594739101.render();\n})\n});\n</script>",
      "text/html": "<div id=\"3dmolviewer_1598867594739101\"  style=\"position: relative; width: 640px; height: 480px\">\n        <p id=\"3dmolwarning_1598867594739101\" style=\"background-color:#ffcccc;color:black\">You appear to be running in JupyterLab (or JavaScript failed to load for some other reason).  You need to install the 3dmol extension: <br>\n        <tt>jupyter labextension install jupyterlab_3dmol</tt></p>\n        </div>\n<script>\n\nvar loadScriptAsync = function(uri){\n  return new Promise((resolve, reject) => {\n    var tag = document.createElement('script');\n    tag.src = uri;\n    tag.async = true;\n    tag.onload = () => {\n      resolve();\n    };\n  var firstScriptTag = document.getElementsByTagName('script')[0];\n  firstScriptTag.parentNode.insertBefore(tag, firstScriptTag);\n});\n};\n\nif(typeof $3Dmolpromise === 'undefined') {\n$3Dmolpromise = null;\n  $3Dmolpromise = loadScriptAsync('https://3dmol.org/build/3Dmol.js');\n}\n\nvar viewer_1598867594739101 = null;\nvar warn = document.getElementById(\"3dmolwarning_1598867594739101\");\nif(warn) {\n    warn.parentNode.removeChild(warn);\n}\n$3Dmolpromise.then(function() {\nviewer_1598867594739101 = $3Dmol.createViewer($(\"#3dmolviewer_1598867594739101\"),{backgroundColor:\"white\"});\n$3Dmol.download(\"pdb:6LU7\", viewer_1598867594739101, {}, function() {\n\tviewer_1598867594739101.setStyle({\"cartoon\": {\"color\": \"spectrum\"}});\n\tviewer_1598867594739101.render_image();\nviewer_1598867594739101.render();\n})\n});\n</script>"
     },
     "metadata": {}
    },
    {
     "output_type": "execute_result",
     "data": {
      "text/plain": "<py3Dmol.view at 0x7fde37ea6a90>"
     },
     "metadata": {},
     "execution_count": 96
    }
   ],
   "source": [
    "view2.render_image()"
   ]
  },
  {
   "cell_type": "code",
   "execution_count": 97,
   "metadata": {},
   "outputs": [],
   "source": [
    "import pytraj as pt"
   ]
  },
  {
   "cell_type": "code",
   "execution_count": 98,
   "metadata": {},
   "outputs": [],
   "source": [
    "covid_tj = pt.load('6lu7.pdb')"
   ]
  },
  {
   "cell_type": "code",
   "execution_count": 99,
   "metadata": {},
   "outputs": [],
   "source": [
    "view3 = nv.show_pytraj(covid_tj)"
   ]
  },
  {
   "cell_type": "code",
   "execution_count": 100,
   "metadata": {},
   "outputs": [
    {
     "output_type": "display_data",
     "data": {
      "text/plain": "NGLWidget()",
      "application/vnd.jupyter.widget-view+json": {
       "version_major": 2,
       "version_minor": 0,
       "model_id": "6bf311de362a47e7a0e3bacef2cc0563"
      }
     },
     "metadata": {}
    }
   ],
   "source": [
    "view3"
   ]
  },
  {
   "cell_type": "code",
   "execution_count": 101,
   "metadata": {},
   "outputs": [
    {
     "output_type": "display_data",
     "data": {
      "text/plain": "Image(value=b'', width='99%')",
      "application/vnd.jupyter.widget-view+json": {
       "version_major": 2,
       "version_minor": 0,
       "model_id": "652108b8ab1743339abcfb13a5257db3"
      }
     },
     "metadata": {}
    }
   ],
   "source": [
    "view3.render_image()"
   ]
  },
  {
   "cell_type": "code",
   "execution_count": null,
   "metadata": {},
   "outputs": [],
   "source": []
  }
 ]
}